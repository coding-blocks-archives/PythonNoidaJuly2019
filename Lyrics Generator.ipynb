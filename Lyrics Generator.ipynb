{
 "cells": [
  {
   "cell_type": "code",
   "execution_count": 72,
   "metadata": {},
   "outputs": [],
   "source": [
    "text = '''I got a song filled with shit for the strong willed\n",
    "When the world gives you a raw deal\n",
    "Set you off 'til you\n",
    "Scream, \"piss off, screw you\"\n",
    "When it talks to you like you don't belong\n",
    "Or tells you you're in the wrong field\n",
    "When something's in your mitochondrial\n",
    "'Cause it latched on to you, like\n",
    "Knock knock, let the devil in, malevolent\n",
    "As I've ever been, head is spinnin', this medicine\n",
    "Screaming, \"L-l-l-let us in\"\n",
    "L-l-lick like a salad bowl, Edgar Allen Poe\n",
    "Bedridden, shoulda been dead a long time ago\n",
    "Liquid Tylenol, gelatins, think my skeleton's meltin'\n",
    "Wicked, I get all high when I think I've smelled the scent\n",
    "Of elephant manure\n",
    "Hell, I meant Kahlúa, screw it, to hell with it\n",
    "I went through hell with accelerants and blew up\n",
    "My-my-myself again, Volkswagen, tailspin\n",
    "Bucket matches my pale skin, mayo and\n",
    "Went from Hellmann's and being rail thin, Filet-o-Fish\n",
    "Scribble Jam, Rap Olympics '97 Freaknik\n",
    "How can I be down? Me and Bizarre in Florida\n",
    "Proof's room slept on floor of 'da motel then\n",
    "Dr. Dre said, \"Hell yeah\"\n",
    "And I got his stamp like a postcard, word to Mel-Man\n",
    "And I know they're gonna hate but I don't care, I\n",
    "Barely can wait to hit 'em with the snare and the bass\n",
    "Square in the face, this fuckin' world better prepare to get laced\n",
    "Because they're gonna taste my\n",
    "Venom\n",
    "(I got that) Adrenaline momentum (venom)\n",
    "Not knowing when I'm\n",
    "Ever gonna slow up and I'm\n",
    "Ready to snap any moment-um\n",
    "Thinkin' it's time to go get 'em\n",
    "They ain't gonna know what hit 'em\n",
    "(When they get bit with the)\n",
    "Venom\n",
    "(I got that) Adrenaline momentum (venom)\n",
    "Not knowing when I'm\n",
    "Ever gonna slow up and I'm\n",
    "Ready to snap any moment-um\n",
    "Thinking it's time to go get 'em\n",
    "They ain't gonna know what hit 'em\n",
    "(When they get bit with the)\n",
    "I said knock knock, let the devil in\n",
    "Shotgun p-p-pellets in the felt pen\n",
    "Cocked, fuck around and catch a hot one\n",
    "I-i-it's evident I'm not done\n",
    "V-venomous, the thoughts spun like a web and you just caught in 'em\n",
    "Held against your will like a hubcap or a mud flap\n",
    "Be strangled or attacked\n",
    "So this ain't gonna feel like a love tap\n",
    "Eat painkiller pills, fuck up the track\n",
    "Like, what's her name at the wheel?\n",
    "Danica Patrick\n",
    "Threw the car into reverse at the Indy, end up crashin'\n",
    "Into ya, look back and it's just mangled steel\n",
    "My Mustang and the Jeep Wrangler grill\n",
    "With the front smashed, much as my rear fender, assassin\n",
    "Slim be the combination of an actual kamikaze and Gandhi\n",
    "Translation, I will probably kill us both when I end up\n",
    "Back in India\n",
    "You ain't gonna be able to tell what the fuck's happened\n",
    "End of ya, when you're bit with the\n",
    "Venom\n",
    "(I got that) Adrenaline momentum (venom)\n",
    "And I'm not knowin' when I'm\n",
    "Ever gonna slow up and I'm\n",
    "Ready to snap any moment I'm\n",
    "Thinkin' it's time to go get 'em\n",
    "They ain't gonna know what hit 'em\n",
    "(W-W-When they get bit with the)\n",
    "Venom\n",
    "(I got that) Adrenaline momentum (venom)\n",
    "And I'm not knowin' when I'm\n",
    "Ever gonna slow up and I'm\n",
    "Ready to snap any moment I'm\n",
    "Thinking it's time to go get 'em\n",
    "They ain't gonna know what hit 'em\n",
    "(W-W-When they get bit with the)\n",
    "I said knock knock, let the devil in, alien\n",
    "E-E-Elliot phone home, ain't no telling when this chokehold\n",
    "On this game will end, I'm loco\n",
    "Became a Symbiote, so\n",
    "My fangs are in your throat, hoe\n",
    "You're snake-bitten with my\n",
    "Venom\n",
    "With the ballpoint pen I'm\n",
    "Gun cocked, bump stock, double-aught, buckshot\n",
    "Tire thumper, a garrote\n",
    "Tie a couple knots, fired up and caught fire\n",
    "Juggernaut\n",
    "Punk rock, bitch, it's goin' down like Yung Joc\n",
    "'Cause the Doc put me on like sunblock\n",
    "Why the fuck not?\n",
    "You only get one shot\n",
    "Ate shit 'til I can't taste it\n",
    "Chased it with straight liquor\n",
    "Then paint thinner, then drank 'til I faint\n",
    "And awake with a headache and I take anything in\n",
    "Rectangular shape, then I wait\n",
    "To face the demons I'm bonded to\n",
    "'Cause they're chasin' me but I'm part of you\n",
    "So escapin' me is impossible\n",
    "I latch onto you like a\n",
    "Parasite, and I probably ruined your parents' life\n",
    "And your childhood too\n",
    "'Cause if I'm the music that y'all grew up on\n",
    "I'm responsible for you retarded fools\n",
    "I'm the supervillain dad and mom was losin' their marbles to\n",
    "You marvel that? Eddie Brock is you\n",
    "And I'm the suit, so call me\n",
    "Venom\n",
    "(I got that) Adrenaline momentum (venom)\n",
    "Not knowing when I'm\n",
    "Ever gonna slow up and I'm\n",
    "Ready to snap any moment I'm\n",
    "Thinking it's time to go get 'em\n",
    "They ain't gonna know what hit 'em\n",
    "(W-W-When they get bit with the)\n",
    "Venom\n",
    "(I got that) Adrenaline momentum (venom)\n",
    "And I'm not knowin' when I'm\n",
    "Ever gonna slow up and I'm\n",
    "Ready to snap any moment I'm\n",
    "Thinkin' it's time to go get 'em\n",
    "They ain't gonna know what hit 'em\n",
    "(W-W-When they get bit with the)'''.lower()"
   ]
  },
  {
   "cell_type": "code",
   "execution_count": 10,
   "metadata": {},
   "outputs": [],
   "source": [
    "def createTable(text, k = 3):\n",
    "    T = {}\n",
    "    for i in range(len(text) - k):\n",
    "        X = text[i:i+k]\n",
    "        Y = text[i+k]\n",
    "        if X in T:\n",
    "            if Y in T[X]:\n",
    "                T[X][Y] += 1\n",
    "            else:\n",
    "                T[X][Y] = 1\n",
    "        else:\n",
    "            T[X] = {\n",
    "                Y: 1\n",
    "            }\n",
    "    \n",
    "    for X in T:\n",
    "        total = sum(T[X].values())\n",
    "        for Y in T[X]:\n",
    "            T[X][Y] /= total\n",
    "    \n",
    "    return T"
   ]
  },
  {
   "cell_type": "code",
   "execution_count": 13,
   "metadata": {},
   "outputs": [],
   "source": [
    "import random"
   ]
  },
  {
   "cell_type": "code",
   "execution_count": 55,
   "metadata": {},
   "outputs": [
    {
     "data": {
      "text/plain": [
       "['mango', 'orange', 'apple', 'apple', 'mango']"
      ]
     },
     "execution_count": 55,
     "metadata": {},
     "output_type": "execute_result"
    }
   ],
   "source": [
    "random.choices([\"mango\", \"apple\", \"orange\"], weights=[3, 1, 1], k=5)"
   ]
  },
  {
   "cell_type": "code",
   "execution_count": 67,
   "metadata": {},
   "outputs": [],
   "source": [
    "def sampleNext(inp, T):\n",
    "    inp = inp[-3:]\n",
    "    if inp in T:\n",
    "        outcomes = list(T[inp].keys())\n",
    "        weights = list(T[inp].values())\n",
    "        return random.choices(outcomes, weights=weights, k=3)[0]\n",
    "    else:\n",
    "        return ' '"
   ]
  },
  {
   "cell_type": "code",
   "execution_count": 73,
   "metadata": {},
   "outputs": [],
   "source": [
    "table = createTable(text)"
   ]
  },
  {
   "cell_type": "code",
   "execution_count": 69,
   "metadata": {},
   "outputs": [
    {
     "data": {
      "text/plain": [
       "'w'"
      ]
     },
     "execution_count": 69,
     "metadata": {},
     "output_type": "execute_result"
    }
   ],
   "source": [
    "sampleNext('lo ', table)"
   ]
  },
  {
   "cell_type": "code",
   "execution_count": 70,
   "metadata": {},
   "outputs": [],
   "source": [
    "def generateText(seed, T, length = 1000):\n",
    "    for _ in range(length):\n",
    "        seed += sampleNext(seed, T)\n",
    "    return seed"
   ]
  },
  {
   "cell_type": "code",
   "execution_count": 75,
   "metadata": {},
   "outputs": [
    {
     "name": "stdout",
     "output_type": "stream",
     "text": [
      "hell end one\n",
      "venol, edgar at to gonna being fill grew up and i call hit 'em\n",
      "thinkin't got pened fools\n",
      "i'm\n",
      "ever gonna knot hit with ass\n",
      "squarely kill what) adre bassass\n",
      "square thought, bucking it with ste it 'em\n",
      "then so tell ended for tellmanure\n",
      "juggernaut\n",
      "pun like, screw your malevolkswagen, hellet bit 'em\n",
      "(i go get 'em wait 'em\n",
      "they ain't the fools\n",
      "i'm\n",
      "the fuck no the jam, railspin\n",
      "bucking filet betten i knock, done my ruine moment-um\n",
      "thinking's and moment smel-man\n",
      "and up and cause thump ste it's time to snake-bitter name onto gonna knot?\n",
      "you a hubcapin\n",
      "shought latch actual kahlúa, screw up andhi\n",
      "trangular indy, end, it's hat that hit this i'm loco\n",
      "became with then i been, matche a slow up they ain, marble jeep wront know when i'm\n",
      "ready too\n",
      "'caughts spun cocked\n",
      "be and catch ass\n",
      "squarenaline homentum (venom)\n",
      "and i doc put mayo and you're at pened\n",
      "so thinkin' word they ain' what) adrenalined\n",
      "be the fuck know thumpervil in, marvel the shinkin' it with what) adre to snare chased is fuck knock\n"
     ]
    }
   ],
   "source": [
    "print(generateText(\"hell\", table))"
   ]
  },
  {
   "cell_type": "code",
   "execution_count": null,
   "metadata": {},
   "outputs": [],
   "source": []
  },
  {
   "cell_type": "code",
   "execution_count": null,
   "metadata": {},
   "outputs": [],
   "source": []
  },
  {
   "cell_type": "code",
   "execution_count": null,
   "metadata": {},
   "outputs": [],
   "source": []
  },
  {
   "cell_type": "code",
   "execution_count": null,
   "metadata": {},
   "outputs": [],
   "source": []
  }
 ],
 "metadata": {
  "kernelspec": {
   "display_name": "Python 3",
   "language": "python",
   "name": "python3"
  },
  "language_info": {
   "codemirror_mode": {
    "name": "ipython",
    "version": 3
   },
   "file_extension": ".py",
   "mimetype": "text/x-python",
   "name": "python",
   "nbconvert_exporter": "python",
   "pygments_lexer": "ipython3",
   "version": "3.7.0"
  }
 },
 "nbformat": 4,
 "nbformat_minor": 2
}
